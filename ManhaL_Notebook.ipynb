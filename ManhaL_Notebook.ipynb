{
  "metadata": {
    "kernelspec": {
      "name": "python",
      "display_name": "Pyolite",
      "language": "python"
    },
    "language_info": {
      "codemirror_mode": {
        "name": "python",
        "version": 3
      },
      "file_extension": ".py",
      "mimetype": "text/x-python",
      "name": "python",
      "nbconvert_exporter": "python",
      "pygments_lexer": "ipython3",
      "version": "3.8"
    }
  },
  "nbformat_minor": 4,
  "nbformat": 4,
  "cells": [
    {
      "cell_type": "markdown",
      "source": "<center>\n    <img src=\"https://cf-courses-data.s3.us.cloud-object-storage.appdomain.cloud/IBMDeveloperSkillsNetwork-DS0105EN-SkillsNetwork/labs/Module2/images/SN_web_lightmode.png\" width=\"300\" alt=\"cognitiveclass.ai logo\">\n</center>\n",
      "metadata": {}
    },
    {
      "cell_type": "markdown",
      "source": "#### Add your code below following the instructions given in the course\n",
      "metadata": {}
    },
    {
      "cell_type": "markdown",
      "source": "# My Jupyter Notebook on IBM Watson Studio",
      "metadata": {}
    },
    {
      "cell_type": "markdown",
      "source": "**ManhaL Abboud**\n\nSoftware/Data Engineer",
      "metadata": {}
    },
    {
      "cell_type": "markdown",
      "source": "*I am interested in Data Scienece because, as Software Engineer, I believe that the objective of any software engineer is to derive Information from Data and the more the data the more valuable the information*",
      "metadata": {}
    },
    {
      "cell_type": "markdown",
      "source": "### The code below is a simple code to print a sentence of the sum of two numbers ",
      "metadata": {}
    },
    {
      "cell_type": "code",
      "source": "a = 3\nb = 5\n\nprint(\"The sum of \", a , \" and \", b , \" is:  \", a+b)",
      "metadata": {
        "trusted": true
      },
      "execution_count": 11,
      "outputs": [
        {
          "name": "stdout",
          "text": "The sum of  3  and  5  is:   8\n",
          "output_type": "stream"
        }
      ]
    },
    {
      "cell_type": "markdown",
      "source": "#### The below list demonstrates the last cell in the assignment in a table format\n---\n\n| Numbered List | Bullited List | Blocked Quote |\n|-----|-----|-----|\n|tests| *bullets*| **Quote**|\n\n1. test1\n2. test2 \n* bullet1\n* bullet2\n> Block Quote1\n",
      "metadata": {}
    },
    {
      "cell_type": "code",
      "source": "",
      "metadata": {},
      "execution_count": null,
      "outputs": []
    }
  ]
}